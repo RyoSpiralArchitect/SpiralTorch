{
 "cells": [
  {
   "cell_type": "markdown",
   "metadata": {},
   "source": [
    "# Contrastive Self-Supervision\n",
    "This notebook sketches a minimal contrastive learning loop that uses the Rust-backed InfoNCE\n",
    "objective exposed through `spiraltorch.selfsup.info_nce`."
   ]
  },
  {
   "cell_type": "code",
   "execution_count": null,
   "metadata": {},
   "outputs": [],
   "source": [
    "import numpy as np\n",
    "from spiraltorch.selfsup import info_nce\n",
    "from spiral.data import augment\n",
    "\n",
    "rng = np.random.default_rng(7)\n",
    "anchors = augment.normalize_batch(rng.normal(size=(8, 64)))\n",
    "positives = augment.normalize_batch(rng.normal(size=(8, 64)))\n",
    "result = info_nce(anchors.tolist(), positives.tolist(), temperature=0.2, normalize=True)\n",
    "result"
   ]
  },
  {
   "cell_type": "markdown",
   "metadata": {},
   "source": [
    "The resulting dictionary provides logits and labels suitable for downstream contrastive training.\n",
    "The stochastic pipeline uses a single RNG seed so that results are reproducible across runs."
   ]
  }
 ],
 "metadata": {
  "kernelspec": {
   "display_name": "Python 3",
   "language": "python",
   "name": "python3"
  },
  "language_info": {
   "name": "python",
   "version": "3.10"
  }
 },
 "nbformat": 4,
 "nbformat_minor": 5
}
