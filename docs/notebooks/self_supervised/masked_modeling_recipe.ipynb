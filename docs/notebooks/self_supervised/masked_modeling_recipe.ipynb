{
 "cells": [
  {
   "cell_type": "markdown",
   "metadata": {},
   "source": [
    "# Masked Modeling\n",
    "Reconstruct masked inputs using the Rust-backed masked MSE objective."
   ]
  },
  {
   "cell_type": "code",
   "execution_count": null,
   "metadata": {},
   "outputs": [],
   "source": [
    "import numpy as np\n",
    "from spiraltorch.selfsup import masked_mse\n",
    "from spiral.data import augment\n",
    "\n",
    "rng = np.random.default_rng(21)\n",
    "pred = rng.normal(size=(4, 16)).astype('float32')\n",
    "target = pred + rng.normal(scale=0.05, size=(4, 16)).astype('float32')\n",
    "mask = []\n",
    "for idx, row in enumerate(target):\n",
    "    mask_bool, _ = augment.random_mask(row, 0.25, seed=idx)\n",
    "    mask.append(np.flatnonzero(mask_bool).tolist())\n",
    "masked_result = masked_mse(pred.tolist(), target.tolist(), mask)\n",
    "masked_result"
   ]
  },
  {
   "cell_type": "markdown",
   "metadata": {},
   "source": [
    "The objective returns the averaged masked MSE along with bookkeeping that simplifies logging\n",
    "and reproducibility tracking."
   ]
  }
 ],
 "metadata": {
  "kernelspec": {
   "display_name": "Python 3",
   "language": "python",
   "name": "python3"
  },
  "language_info": {
   "name": "python",
   "version": "3.10"
  }
 },
 "nbformat": 4,
 "nbformat_minor": 5
}
